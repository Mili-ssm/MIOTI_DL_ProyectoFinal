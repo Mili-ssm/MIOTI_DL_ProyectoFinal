{
 "cells": [
  {
   "cell_type": "code",
   "execution_count": 30,
   "id": "51f8e5ee",
   "metadata": {},
   "outputs": [],
   "source": [
    "import sys\n",
    "sys.path.append(\"../\")"
   ]
  },
  {
   "cell_type": "code",
   "execution_count": 31,
   "id": "7c10134e",
   "metadata": {},
   "outputs": [
    {
     "ename": "InvalidURI",
     "evalue": "mongodb+srv:// URIs must not include a port number",
     "output_type": "error",
     "traceback": [
      "\u001b[31m---------------------------------------------------------------------------\u001b[39m",
      "\u001b[31mInvalidURI\u001b[39m                                Traceback (most recent call last)",
      "\u001b[36mCell\u001b[39m\u001b[36m \u001b[39m\u001b[32mIn[31]\u001b[39m\u001b[32m, line 3\u001b[39m\n\u001b[32m      1\u001b[39m \u001b[38;5;28;01mfrom\u001b[39;00m\u001b[38;5;250m \u001b[39m\u001b[34;01msrc\u001b[39;00m\u001b[34;01m.\u001b[39;00m\u001b[34;01mllama_ingestion\u001b[39;00m\u001b[38;5;250m \u001b[39m\u001b[38;5;28;01mimport\u001b[39;00m IngestionPipelineConfig\n\u001b[32m----> \u001b[39m\u001b[32m3\u001b[39m index = \u001b[43mIngestionPipelineConfig\u001b[49m\u001b[43m(\u001b[49m\u001b[43m)\u001b[49m\u001b[43m.\u001b[49m\u001b[43mrun_pipeline\u001b[49m\u001b[43m(\u001b[49m\u001b[43m)\u001b[49m\n",
      "\u001b[36mFile \u001b[39m\u001b[32m~/Documents/Master/proyecto_deeplearning/MIOTI_DL_ProyectoFinal/src/../src/llama_ingestion.py:33\u001b[39m, in \u001b[36mIngestionPipelineConfig.run_pipeline\u001b[39m\u001b[34m(self)\u001b[39m\n\u001b[32m     29\u001b[39m \u001b[38;5;28;01mdef\u001b[39;00m\u001b[38;5;250m \u001b[39m\u001b[34mrun_pipeline\u001b[39m(\u001b[38;5;28mself\u001b[39m) -> VectorStoreIndex:\n\u001b[32m     31\u001b[39m     documents = SimpleDirectoryReader(\u001b[38;5;28mself\u001b[39m.documents_path, recursive=\u001b[38;5;28;01mTrue\u001b[39;00m).load_data()\n\u001b[32m---> \u001b[39m\u001b[32m33\u001b[39m     client = \u001b[43mMongoClient\u001b[49m\u001b[43m(\u001b[49m\u001b[38;5;28;43mself\u001b[39;49m\u001b[43m.\u001b[49m\u001b[43mmongo_uri\u001b[49m\u001b[43m)\u001b[49m\n\u001b[32m     34\u001b[39m     vector_store = MongoDBAtlasVectorSearch(\n\u001b[32m     35\u001b[39m         client=client,\n\u001b[32m     36\u001b[39m         db_name=\u001b[38;5;28mself\u001b[39m.db_name,\n\u001b[32m     37\u001b[39m         collection_name=\u001b[38;5;28mself\u001b[39m.collection,\n\u001b[32m     38\u001b[39m         index_name=\u001b[38;5;28mself\u001b[39m.index_name,\n\u001b[32m     39\u001b[39m     )\n\u001b[32m     41\u001b[39m     pipeline = IngestionPipeline(\n\u001b[32m     42\u001b[39m         transformations=[\n\u001b[32m     43\u001b[39m             SentenceSplitter(chunk_size=\u001b[32m25\u001b[39m, chunk_overlap=\u001b[32m0\u001b[39m),\n\u001b[32m   (...)\u001b[39m\u001b[32m     47\u001b[39m         vector_store=vector_store,\n\u001b[32m     48\u001b[39m     )\n",
      "\u001b[36mFile \u001b[39m\u001b[32m~/Documents/Master/proyecto_deeplearning/MIOTI_DL_ProyectoFinal/.venv/lib/python3.12/site-packages/pymongo/synchronous/mongo_client.py:797\u001b[39m, in \u001b[36mMongoClient.__init__\u001b[39m\u001b[34m(self, host, port, document_class, tz_aware, connect, type_registry, **kwargs)\u001b[39m\n\u001b[32m    792\u001b[39m \u001b[38;5;28;01mfor\u001b[39;00m entity \u001b[38;5;129;01min\u001b[39;00m \u001b[38;5;28mself\u001b[39m._host:\n\u001b[32m    793\u001b[39m     \u001b[38;5;66;03m# A hostname can only include a-z, 0-9, '-' and '.'. If we find a '/'\u001b[39;00m\n\u001b[32m    794\u001b[39m     \u001b[38;5;66;03m# it must be a URI,\u001b[39;00m\n\u001b[32m    795\u001b[39m     \u001b[38;5;66;03m# https://en.wikipedia.org/wiki/Hostname#Restrictions_on_valid_host_names\u001b[39;00m\n\u001b[32m    796\u001b[39m     \u001b[38;5;28;01mif\u001b[39;00m \u001b[33m\"\u001b[39m\u001b[33m/\u001b[39m\u001b[33m\"\u001b[39m \u001b[38;5;129;01min\u001b[39;00m entity:\n\u001b[32m--> \u001b[39m\u001b[32m797\u001b[39m         res = \u001b[43m_validate_uri\u001b[49m\u001b[43m(\u001b[49m\n\u001b[32m    798\u001b[39m \u001b[43m            \u001b[49m\u001b[43mentity\u001b[49m\u001b[43m,\u001b[49m\n\u001b[32m    799\u001b[39m \u001b[43m            \u001b[49m\u001b[43mport\u001b[49m\u001b[43m,\u001b[49m\n\u001b[32m    800\u001b[39m \u001b[43m            \u001b[49m\u001b[43mvalidate\u001b[49m\u001b[43m=\u001b[49m\u001b[38;5;28;43;01mTrue\u001b[39;49;00m\u001b[43m,\u001b[49m\n\u001b[32m    801\u001b[39m \u001b[43m            \u001b[49m\u001b[43mwarn\u001b[49m\u001b[43m=\u001b[49m\u001b[38;5;28;43;01mTrue\u001b[39;49;00m\u001b[43m,\u001b[49m\n\u001b[32m    802\u001b[39m \u001b[43m            \u001b[49m\u001b[43mnormalize\u001b[49m\u001b[43m=\u001b[49m\u001b[38;5;28;43;01mFalse\u001b[39;49;00m\u001b[43m,\u001b[49m\n\u001b[32m    803\u001b[39m \u001b[43m            \u001b[49m\u001b[43msrv_max_hosts\u001b[49m\u001b[43m=\u001b[49m\u001b[43msrv_max_hosts\u001b[49m\u001b[43m,\u001b[49m\n\u001b[32m    804\u001b[39m \u001b[43m        \u001b[49m\u001b[43m)\u001b[49m\n\u001b[32m    805\u001b[39m         is_srv = entity.startswith(SRV_SCHEME)\n\u001b[32m    806\u001b[39m         \u001b[38;5;28mself\u001b[39m._seeds.update(res[\u001b[33m\"\u001b[39m\u001b[33mnodelist\u001b[39m\u001b[33m\"\u001b[39m])\n",
      "\u001b[36mFile \u001b[39m\u001b[32m~/Documents/Master/proyecto_deeplearning/MIOTI_DL_ProyectoFinal/.venv/lib/python3.12/site-packages/pymongo/uri_parser_shared.py:530\u001b[39m, in \u001b[36m_validate_uri\u001b[39m\u001b[34m(uri, default_port, validate, warn, normalize, srv_max_hosts)\u001b[39m\n\u001b[32m    528\u001b[39m     fqdn, port = nodes[\u001b[32m0\u001b[39m]\n\u001b[32m    529\u001b[39m     \u001b[38;5;28;01mif\u001b[39;00m port \u001b[38;5;129;01mis\u001b[39;00m \u001b[38;5;129;01mnot\u001b[39;00m \u001b[38;5;28;01mNone\u001b[39;00m:\n\u001b[32m--> \u001b[39m\u001b[32m530\u001b[39m         \u001b[38;5;28;01mraise\u001b[39;00m InvalidURI(\u001b[33mf\u001b[39m\u001b[33m\"\u001b[39m\u001b[38;5;132;01m{\u001b[39;00mSRV_SCHEME\u001b[38;5;132;01m}\u001b[39;00m\u001b[33m URIs must not include a port number\u001b[39m\u001b[33m\"\u001b[39m)\n\u001b[32m    531\u001b[39m \u001b[38;5;28;01melif\u001b[39;00m \u001b[38;5;129;01mnot\u001b[39;00m is_srv \u001b[38;5;129;01mand\u001b[39;00m options.get(\u001b[33m\"\u001b[39m\u001b[33msrvServiceName\u001b[39m\u001b[33m\"\u001b[39m) \u001b[38;5;129;01mis\u001b[39;00m \u001b[38;5;129;01mnot\u001b[39;00m \u001b[38;5;28;01mNone\u001b[39;00m:\n\u001b[32m    532\u001b[39m     \u001b[38;5;28;01mraise\u001b[39;00m ConfigurationError(\n\u001b[32m    533\u001b[39m         \u001b[33m\"\u001b[39m\u001b[33mThe srvServiceName option is only allowed with \u001b[39m\u001b[33m'\u001b[39m\u001b[33mmongodb+srv://\u001b[39m\u001b[33m'\u001b[39m\u001b[33m URIs\u001b[39m\u001b[33m\"\u001b[39m\n\u001b[32m    534\u001b[39m     )\n",
      "\u001b[31mInvalidURI\u001b[39m: mongodb+srv:// URIs must not include a port number"
     ]
    }
   ],
   "source": [
    "from src.llama_ingestion import IngestionPipelineConfig\n",
    "\n",
    "index = IngestionPipelineConfig().run_pipeline()\n"
   ]
  },
  {
   "cell_type": "code",
   "execution_count": null,
   "id": "70483db5",
   "metadata": {},
   "outputs": [
    {
     "ename": "ValueError",
     "evalue": "No files found in /home/josean/Documents/Master/proyecto_deeplearning/MIOTI_DL_ProyectoFinal/Document.",
     "output_type": "error",
     "traceback": [
      "\u001b[31m---------------------------------------------------------------------------\u001b[39m",
      "\u001b[31mValueError\u001b[39m                                Traceback (most recent call last)",
      "\u001b[36mCell\u001b[39m\u001b[36m \u001b[39m\u001b[32mIn[16]\u001b[39m\u001b[32m, line 5\u001b[39m\n\u001b[32m      1\u001b[39m \u001b[38;5;28;01mfrom\u001b[39;00m\u001b[38;5;250m \u001b[39m\u001b[34;01msrc\u001b[39;00m\u001b[34;01m.\u001b[39;00m\u001b[34;01mingesta\u001b[39;00m\u001b[34;01m.\u001b[39;00m\u001b[34;01mllama_ingestion\u001b[39;00m\u001b[38;5;250m \u001b[39m\u001b[38;5;28;01mimport\u001b[39;00m IngestionPipelineConfig\n\u001b[32m      3\u001b[39m index = \u001b[43mIngestionPipelineConfig\u001b[49m\u001b[43m(\u001b[49m\n\u001b[32m      4\u001b[39m \u001b[43m    \u001b[49m\u001b[43mdocuments_path\u001b[49m\u001b[43m=\u001b[49m\u001b[33;43m\"\u001b[39;49m\u001b[33;43m/home/josean/Documents/Master/proyecto_deeplearning/MIOTI_DL_ProyectoFinal/Document\u001b[39;49m\u001b[33;43m\"\u001b[39;49m\n\u001b[32m----> \u001b[39m\u001b[32m5\u001b[39m \u001b[43m)\u001b[49m\u001b[43m.\u001b[49m\u001b[43mrun_pipeline\u001b[49m\u001b[43m(\u001b[49m\u001b[43m)\u001b[49m\n",
      "\u001b[36mFile \u001b[39m\u001b[32m~/Documents/Master/proyecto_deeplearning/MIOTI_DL_ProyectoFinal/src/../src/ingesta/llama_ingestion.py:33\u001b[39m, in \u001b[36mIngestionPipelineConfig.run_pipeline\u001b[39m\u001b[34m(self)\u001b[39m\n\u001b[32m     29\u001b[39m \u001b[38;5;28;01mdef\u001b[39;00m\u001b[38;5;250m \u001b[39m\u001b[34mrun_pipeline\u001b[39m(\u001b[38;5;28mself\u001b[39m) -> VectorStoreIndex:\n\u001b[32m     30\u001b[39m \u001b[38;5;250m    \u001b[39m\u001b[33;03m\"\"\"\u001b[39;00m\n\u001b[32m     31\u001b[39m \u001b[33;03m    Ejecuta la ingesta de documentos desde MongoDB Atlas con LlamaIndex.\u001b[39;00m\n\u001b[32m     32\u001b[39m \u001b[33;03m    \"\"\"\u001b[39;00m\n\u001b[32m---> \u001b[39m\u001b[32m33\u001b[39m     documents = \u001b[43mSimpleDirectoryReader\u001b[49m\u001b[43m(\u001b[49m\u001b[38;5;28;43mself\u001b[39;49m\u001b[43m.\u001b[49m\u001b[43mdocuments_path\u001b[49m\u001b[43m)\u001b[49m.load_data()\n\u001b[32m     35\u001b[39m     client = MongoClient(\u001b[38;5;28mself\u001b[39m.mongo_uri)\n\u001b[32m     36\u001b[39m     vector_store = MongoDBAtlasVectorSearch(\n\u001b[32m     37\u001b[39m         client=client,\n\u001b[32m     38\u001b[39m         db_name=\u001b[38;5;28mself\u001b[39m.db_name,\n\u001b[32m     39\u001b[39m         collection_name=\u001b[38;5;28mself\u001b[39m.collection,\n\u001b[32m     40\u001b[39m         index_name=\u001b[38;5;28mself\u001b[39m.index_name,\n\u001b[32m     41\u001b[39m     )\n",
      "\u001b[36mFile \u001b[39m\u001b[32m~/Documents/Master/proyecto_deeplearning/MIOTI_DL_ProyectoFinal/.venv/lib/python3.12/site-packages/llama_index/core/readers/file/base.py:297\u001b[39m, in \u001b[36mSimpleDirectoryReader.__init__\u001b[39m\u001b[34m(self, input_dir, input_files, exclude, exclude_hidden, exclude_empty, errors, recursive, encoding, filename_as_id, required_exts, file_extractor, num_files_limit, file_metadata, raise_on_error, fs)\u001b[39m\n\u001b[32m    295\u001b[39m     \u001b[38;5;28mself\u001b[39m.input_dir = _Path(input_dir)\n\u001b[32m    296\u001b[39m     \u001b[38;5;28mself\u001b[39m.exclude = exclude\n\u001b[32m--> \u001b[39m\u001b[32m297\u001b[39m     \u001b[38;5;28mself\u001b[39m.input_files = \u001b[38;5;28;43mself\u001b[39;49m\u001b[43m.\u001b[49m\u001b[43m_add_files\u001b[49m\u001b[43m(\u001b[49m\u001b[38;5;28;43mself\u001b[39;49m\u001b[43m.\u001b[49m\u001b[43minput_dir\u001b[49m\u001b[43m)\u001b[49m\n\u001b[32m    299\u001b[39m \u001b[38;5;28mself\u001b[39m.file_extractor = file_extractor \u001b[38;5;129;01mor\u001b[39;00m {}\n\u001b[32m    300\u001b[39m \u001b[38;5;28mself\u001b[39m.file_metadata = file_metadata \u001b[38;5;129;01mor\u001b[39;00m _DefaultFileMetadataFunc(\u001b[38;5;28mself\u001b[39m.fs)\n",
      "\u001b[36mFile \u001b[39m\u001b[32m~/Documents/Master/proyecto_deeplearning/MIOTI_DL_ProyectoFinal/.venv/lib/python3.12/site-packages/llama_index/core/readers/file/base.py:382\u001b[39m, in \u001b[36mSimpleDirectoryReader._add_files\u001b[39m\u001b[34m(self, input_dir)\u001b[39m\n\u001b[32m    379\u001b[39m new_input_files = \u001b[38;5;28msorted\u001b[39m(all_files)\n\u001b[32m    381\u001b[39m \u001b[38;5;28;01mif\u001b[39;00m \u001b[38;5;28mlen\u001b[39m(new_input_files) == \u001b[32m0\u001b[39m:\n\u001b[32m--> \u001b[39m\u001b[32m382\u001b[39m     \u001b[38;5;28;01mraise\u001b[39;00m \u001b[38;5;167;01mValueError\u001b[39;00m(\u001b[33mf\u001b[39m\u001b[33m\"\u001b[39m\u001b[33mNo files found in \u001b[39m\u001b[38;5;132;01m{\u001b[39;00minput_dir\u001b[38;5;132;01m}\u001b[39;00m\u001b[33m.\u001b[39m\u001b[33m\"\u001b[39m)\n\u001b[32m    384\u001b[39m \u001b[38;5;28;01mif\u001b[39;00m \u001b[38;5;28mself\u001b[39m.num_files_limit \u001b[38;5;129;01mis\u001b[39;00m \u001b[38;5;129;01mnot\u001b[39;00m \u001b[38;5;28;01mNone\u001b[39;00m \u001b[38;5;129;01mand\u001b[39;00m \u001b[38;5;28mself\u001b[39m.num_files_limit > \u001b[32m0\u001b[39m:\n\u001b[32m    385\u001b[39m     new_input_files = new_input_files[\u001b[32m0\u001b[39m : \u001b[38;5;28mself\u001b[39m.num_files_limit]\n",
      "\u001b[31mValueError\u001b[39m: No files found in /home/josean/Documents/Master/proyecto_deeplearning/MIOTI_DL_ProyectoFinal/Document."
     ]
    }
   ],
   "source": [
    "from src.llama_ingestion import IngestionPipelineConfig\n",
    "\n",
    "index = IngestionPipelineConfig(\n",
    "    documents_path=\"/home/josean/Documents/Master/proyecto_deeplearning/MIOTI_DL_ProyectoFinal/Document\"\n",
    ").run_pipeline()\n"
   ]
  }
 ],
 "metadata": {
  "kernelspec": {
   "display_name": ".venv",
   "language": "python",
   "name": "python3"
  },
  "language_info": {
   "codemirror_mode": {
    "name": "ipython",
    "version": 3
   },
   "file_extension": ".py",
   "mimetype": "text/x-python",
   "name": "python",
   "nbconvert_exporter": "python",
   "pygments_lexer": "ipython3",
   "version": "3.12.3"
  }
 },
 "nbformat": 4,
 "nbformat_minor": 5
}
